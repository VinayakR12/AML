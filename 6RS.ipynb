{
  "cells": [
    {
      "cell_type": "markdown",
      "metadata": {
        "id": "9RJkcaKldIZv"
      },
      "source": [
        "# **Experiment No : 6. Implement a Program for Recommendation System**"
      ]
    },
    {
      "cell_type": "code",
      "execution_count": null,
      "metadata": {
        "id": "O2lfCP5bdIaI",
        "outputId": "1cc91bae-b6dd-4ede-def7-aea5bad270f3"
      },
      "outputs": [
        {
          "name": "stdout",
          "output_type": "stream",
          "text": [
            "RMSE: 0.9430\n",
            "Top 5 recommended movies for user 196:\n",
            "Movie ID: 773, Predicted Rating: 3.47\n",
            "Movie ID: 1028, Predicted Rating: 3.47\n",
            "Movie ID: 1078, Predicted Rating: 3.47\n",
            "Movie ID: 421, Predicted Rating: 3.47\n",
            "Movie ID: 288, Predicted Rating: 3.47\n"
          ]
        }
      ],
      "source": [
        "from surprise import Dataset, SVD\n",
        "from surprise.model_selection import train_test_split\n",
        "from surprise import accuracy\n",
        "\n",
        "data = Dataset.load_builtin('ml-100k')\n",
        "\n",
        "algo = SVD()\n",
        "\n",
        "trainset, testset = train_test_split(data, test_size=0.25)\n",
        "\n",
        "algo.fit(trainset)\n",
        "\n",
        "predictions = algo.test(testset)\n",
        "\n",
        "accuracy.rmse(predictions)\n",
        "\n",
        "user_id = str(192)\n",
        "user_ratings = [(trainset.to_raw_iid(item), algo.predict(user_id, item).est) for item in trainset.all_items()\n",
        "if item not in trainset.ur[trainset.to_inner_uid(user_id)]]\n",
        "\n",
        "sorted_ratings = sorted(user_ratings, key=lambda x: x[1], reverse=True)\n",
        "\n",
        "print(f\"Top 5 recommended movies for user {user_id}:\")\n",
        "for movie_id, predicted_rating in sorted_ratings[:5]:\n",
        "    print(f\"Movie ID: {movie_id}, Predicted Rating: {predicted_rating:.2f}\")\n"
      ]
    },
    {
      "cell_type": "markdown",
      "metadata": {
        "id": "a3bje1HodIaL"
      },
      "source": [
        "### **Implementation of Collaborative Filtering**"
      ]
    },
    {
      "cell_type": "code",
      "execution_count": null,
      "metadata": {
        "id": "n11qtnZqdIaM",
        "outputId": "809a1853-f817-40ed-dd17-263e81247566"
      },
      "outputs": [
        {
          "name": "stdout",
          "output_type": "stream",
          "text": [
            "Recommendations for User 2: [(0, 2.67), (2, 2.67), (4, 1.67)]\n"
          ]
        }
      ],
      "source": [
        "import numpy as np\n",
        "\n",
        "class CollaborativeFiltering:\n",
        "    def __init__(self, num_users, num_items):\n",
        "        self.num_users = num_users\n",
        "        self.num_items = num_items\n",
        "        self.user_item_matrix = np.zeros((num_users, num_items))\n",
        "        self.similarity_matrix = np.zeros((num_users, num_users))\n",
        "\n",
        "    def add_interaction(self, user_id, item_id, rating):\n",
        "        self.user_item_matrix[user_id, item_id] = rating\n",
        "\n",
        "    def calculate_similarity(self):\n",
        "        for i in range(self.num_users):\n",
        "            for j in range(self.num_users):\n",
        "                if i != j:\n",
        "                    numerator = np.dot(self.user_item_matrix[i], self.user_item_matrix[j])\n",
        "                    denominator = np.linalg.norm(self.user_item_matrix[i]) *\n",
        "                    np.linalg.norm(self.user_item_matrix[j])\n",
        "                    self.similarity_matrix[i, j] = numerator / (denominator + 1e-10)\n",
        "\n",
        "    def recommend_items(self, user_id, num_recommendations=5):\n",
        "        similar_users = np.argsort(self.similarity_matrix[user_id])[::-1]\n",
        "\n",
        "        unrated_items = np.where(self.user_item_matrix[user_id] == 0)[0]\n",
        "\n",
        "        recommendations = []\n",
        "        for item_id in unrated_items[:num_recommendations]:\n",
        "            predicted_rating = np.mean(self.user_item_matrix[similar_users[:3], item_id])\n",
        "            recommendations.append((item_id, round(predicted_rating,2)))\n",
        "\n",
        "        recommendations.sort(key=lambda x: x[1], reverse=True)\n",
        "\n",
        "        return recommendations\n",
        "\n",
        "num_users = 4\n",
        "num_items = 5\n",
        "\n",
        "cf = CollaborativeFiltering(num_users, num_items)\n",
        "\n",
        "# Add user-item interactions (user_id, item_id, rating)\n",
        "interactions = [\n",
        "    (0, 0, 5), (0, 1, 4), (0, 3, 2),\n",
        "    (1, 0, 3), (1, 2, 5), (1, 3, 1),\n",
        "    (2, 1, 2), (2, 3, 4),\n",
        "    (3, 2, 3), (3, 4, 5)\n",
        "]\n",
        "\n",
        "for user, item, rating in interactions:\n",
        "    cf.add_interaction(user, item, rating)\n",
        "\n",
        "# Calculate user similarity\n",
        "cf.calculate_similarity()\n",
        "\n",
        "user_id_to_recommend = 2\n",
        "recommendations = cf.recommend_items(user_id_to_recommend, num_recommendations=3)\n",
        "\n",
        "print(f\"Recommendations for User {user_id_to_recommend}: {recommendations}\")\n"
      ]
    }
  ],
  "metadata": {
    "kernelspec": {
      "display_name": "Python 3",
      "language": "python",
      "name": "python3"
    },
    "language_info": {
      "codemirror_mode": {
        "name": "ipython",
        "version": 3
      },
      "file_extension": ".py",
      "mimetype": "text/x-python",
      "name": "python",
      "nbconvert_exporter": "python",
      "pygments_lexer": "ipython3",
      "version": "3.9.9"
    },
    "colab": {
      "provenance": []
    }
  },
  "nbformat": 4,
  "nbformat_minor": 0
}