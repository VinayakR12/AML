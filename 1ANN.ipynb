{
  "cells": [
    {
      "cell_type": "markdown",
      "metadata": {
        "id": "rCXLJGW3P3O5"
      },
      "source": [
        "# **Experiment No : 1. Implement an Artificial Neural Network**"
      ]
    },
    {
      "cell_type": "code",
      "execution_count": null,
      "metadata": {
        "id": "loVIWI0GP3O8"
      },
      "outputs": [],
      "source": [
        "import numpy as np\n",
        "import pandas as pd\n",
        "\n",
        "class NeuralNetwork:\n",
        "    def __init__(self):\n",
        "        self.weights = np.random.randn(1, 1)\n",
        "        self.bias = np.random.randn(1)\n",
        "\n",
        "    def sigmoid(self, x):\n",
        "        return 1 / (1 + np.exp(-x))\n",
        "\n",
        "    def sigmoid_derivative(self, x):\n",
        "        return x * (1 - x)\n",
        "\n",
        "    def forward_propagation(self, X):  # Forward pass\n",
        "        weighted_sum = np.dot(X, self.weights) + self.bias\n",
        "        output = self.sigmoid(weighted_sum)\n",
        "        return output\n",
        "\n",
        "    def backward_propagation(self, X, y_true, output, learning_rate): # Backward pass\n",
        "        error = y_true - output\n",
        "        d_output = error * self.sigmoid_derivative(output)\n",
        "        d_weights = np.dot(X.T, d_output)\n",
        "        d_bias = np.sum(d_output)\n",
        "\n",
        "        self.weights += learning_rate * d_weights   # Update weights and biases\n",
        "        self.bias += learning_rate * d_bias\n",
        "\n",
        "    def train(self, X, y_true, learning_rate, epochs):\n",
        "        for epoch in range(epochs):\n",
        "            output = self.forward_propagation(X)      # Forward propagation\n",
        "\n",
        "            # Backward propagation\n",
        "            self.backward_propagation(X, y_true, output, learning_rate)\n",
        "\n",
        "            if epoch % 100 == 0:\n",
        "                loss = np.mean(np.square(y_true - output))\n",
        "                print(f'Epoch: {epoch}, Loss: {loss:.4f}')\n",
        "\n",
        "    def predict(self, X):\n",
        "        return self.forward_propagation(X)\n"
      ]
    },
    {
      "cell_type": "code",
      "execution_count": null,
      "metadata": {
        "id": "F6TE68V_P3O-"
      },
      "outputs": [],
      "source": [
        "\n",
        "data=pd.read_csv('/content/data.csv')\n",
        "height = np.array(data.iloc[:,0].values).reshape(-1,1)\n",
        "weight = np.array(data.iloc[:,1].values).reshape(-1,1)\n"
      ]
    },
    {
      "cell_type": "code",
      "execution_count": null,
      "metadata": {
        "id": "DmiAD1cyP3O-"
      },
      "outputs": [],
      "source": [
        "normalized_height = height*(1/np.max(height))\n",
        "normalized_weight = weight*(1/np.max(weight))\n"
      ]
    },
    {
      "cell_type": "code",
      "execution_count": null,
      "metadata": {
        "colab": {
          "base_uri": "https://localhost:8080/"
        },
        "id": "c-8qy2kAP3O_",
        "outputId": "9085830d-aa4b-4f38-ebe0-80cbed487e9b"
      },
      "outputs": [
        {
          "output_type": "stream",
          "name": "stdout",
          "text": [
            "Epoch: 0, Loss: 0.0626\n",
            "Epoch: 100, Loss: 0.0705\n",
            "Epoch: 200, Loss: 0.0705\n",
            "Epoch: 300, Loss: 0.0705\n",
            "Epoch: 400, Loss: 0.0705\n",
            "Epoch: 500, Loss: 0.0705\n",
            "Epoch: 600, Loss: 0.0705\n",
            "Epoch: 700, Loss: 0.0705\n",
            "Epoch: 800, Loss: 0.0705\n",
            "Epoch: 900, Loss: 0.0705\n",
            "Epoch: 1000, Loss: 0.0705\n",
            "Epoch: 1100, Loss: 0.0705\n",
            "Epoch: 1200, Loss: 0.0705\n",
            "Epoch: 1300, Loss: 0.0705\n",
            "Epoch: 1400, Loss: 0.0705\n",
            "Epoch: 1500, Loss: 0.0705\n",
            "Epoch: 1600, Loss: 0.0705\n",
            "Epoch: 1700, Loss: 0.0705\n",
            "Epoch: 1800, Loss: 0.0705\n",
            "Epoch: 1900, Loss: 0.0705\n",
            "Epoch: 2000, Loss: 0.0705\n",
            "Epoch: 2100, Loss: 0.0705\n",
            "Epoch: 2200, Loss: 0.0705\n",
            "Epoch: 2300, Loss: 0.0705\n",
            "Epoch: 2400, Loss: 0.0705\n",
            "Epoch: 2500, Loss: 0.0705\n",
            "Epoch: 2600, Loss: 0.0705\n",
            "Epoch: 2700, Loss: 0.0705\n",
            "Epoch: 2800, Loss: 0.0705\n",
            "Epoch: 2900, Loss: 0.0705\n",
            "Epoch: 3000, Loss: 0.0705\n",
            "Epoch: 3100, Loss: 0.0705\n",
            "Epoch: 3200, Loss: 0.0705\n",
            "Epoch: 3300, Loss: 0.0705\n",
            "Epoch: 3400, Loss: 0.0705\n",
            "Epoch: 3500, Loss: 0.0705\n",
            "Epoch: 3600, Loss: 0.0705\n",
            "Epoch: 3700, Loss: 0.0705\n",
            "Epoch: 3800, Loss: 0.0705\n",
            "Epoch: 3900, Loss: 0.0705\n",
            "Epoch: 4000, Loss: 0.0705\n",
            "Epoch: 4100, Loss: 0.0705\n",
            "Epoch: 4200, Loss: 0.0705\n",
            "Epoch: 4300, Loss: 0.0705\n",
            "Epoch: 4400, Loss: 0.0705\n",
            "Epoch: 4500, Loss: 0.0705\n",
            "Epoch: 4600, Loss: 0.0705\n",
            "Epoch: 4700, Loss: 0.0705\n",
            "Epoch: 4800, Loss: 0.0705\n",
            "Epoch: 4900, Loss: 0.0705\n",
            "Epoch: 5000, Loss: 0.0705\n",
            "Epoch: 5100, Loss: 0.0705\n",
            "Epoch: 5200, Loss: 0.0705\n",
            "Epoch: 5300, Loss: 0.0705\n",
            "Epoch: 5400, Loss: 0.0705\n",
            "Epoch: 5500, Loss: 0.0705\n",
            "Epoch: 5600, Loss: 0.0705\n",
            "Epoch: 5700, Loss: 0.0705\n",
            "Epoch: 5800, Loss: 0.0705\n",
            "Epoch: 5900, Loss: 0.0705\n",
            "Epoch: 6000, Loss: 0.0705\n",
            "Epoch: 6100, Loss: 0.0705\n",
            "Epoch: 6200, Loss: 0.0705\n",
            "Epoch: 6300, Loss: 0.0705\n",
            "Epoch: 6400, Loss: 0.0705\n",
            "Epoch: 6500, Loss: 0.0705\n",
            "Epoch: 6600, Loss: 0.0705\n",
            "Epoch: 6700, Loss: 0.0705\n",
            "Epoch: 6800, Loss: 0.0705\n",
            "Epoch: 6900, Loss: 0.0705\n",
            "Epoch: 7000, Loss: 0.0705\n",
            "Epoch: 7100, Loss: 0.0705\n",
            "Epoch: 7200, Loss: 0.0705\n",
            "Epoch: 7300, Loss: 0.0705\n",
            "Epoch: 7400, Loss: 0.0705\n",
            "Epoch: 7500, Loss: 0.0705\n",
            "Epoch: 7600, Loss: 0.0705\n",
            "Epoch: 7700, Loss: 0.0705\n",
            "Epoch: 7800, Loss: 0.0705\n",
            "Epoch: 7900, Loss: 0.0705\n",
            "Epoch: 8000, Loss: 0.0705\n",
            "Epoch: 8100, Loss: 0.0705\n",
            "Epoch: 8200, Loss: 0.0705\n",
            "Epoch: 8300, Loss: 0.0705\n",
            "Epoch: 8400, Loss: 0.0705\n",
            "Epoch: 8500, Loss: 0.0705\n",
            "Epoch: 8600, Loss: 0.0705\n",
            "Epoch: 8700, Loss: 0.0705\n",
            "Epoch: 8800, Loss: 0.0705\n",
            "Epoch: 8900, Loss: 0.0705\n",
            "Epoch: 9000, Loss: 0.0705\n",
            "Epoch: 9100, Loss: 0.0705\n",
            "Epoch: 9200, Loss: 0.0705\n",
            "Epoch: 9300, Loss: 0.0705\n",
            "Epoch: 9400, Loss: 0.0705\n",
            "Epoch: 9500, Loss: 0.0705\n",
            "Epoch: 9600, Loss: 0.0705\n",
            "Epoch: 9700, Loss: 0.0705\n",
            "Epoch: 9800, Loss: 0.0705\n",
            "Epoch: 9900, Loss: 0.0705\n"
          ]
        }
      ],
      "source": [
        "model = NeuralNetwork()\n",
        "model.train(normalized_height, normalized_weight, learning_rate=0.1, epochs=10000)\n"
      ]
    },
    {
      "cell_type": "code",
      "execution_count": null,
      "metadata": {
        "colab": {
          "base_uri": "https://localhost:8080/"
        },
        "id": "bWf34-wUP3PA",
        "outputId": "eb7a8b99-5a2f-4868-e40f-ed28bb48988e"
      },
      "outputs": [
        {
          "output_type": "stream",
          "name": "stdout",
          "text": [
            "Predicted weight for height 177.83739 cm: 77.53 kg\n",
            "True weight for height 177.83739 cm: 61.90 kg\n"
          ]
        }
      ],
      "source": [
        "row=7\n",
        "n_height = np.array(data.iloc[row,0])\n",
        "n_weight = np.array(data.iloc[row,1])\n",
        "normalized_height = n_height  * (1/np.max(height))\n",
        "predicted_weight = model.predict(normalized_height) * np.max(weight)\n",
        "print(f'Predicted weight for height {n_height} cm: {predicted_weight[0][0]:.2f} kg')\n",
        "print(f'True weight for height {n_height} cm: {n_weight:.2f} kg')"
      ]
    }
  ],
  "metadata": {
    "kernelspec": {
      "display_name": "Python 3",
      "language": "python",
      "name": "python3"
    },
    "language_info": {
      "codemirror_mode": {
        "name": "ipython",
        "version": 3
      },
      "file_extension": ".py",
      "mimetype": "text/x-python",
      "name": "python",
      "nbconvert_exporter": "python",
      "pygments_lexer": "ipython3",
      "version": "3.9.9"
    },
    "colab": {
      "provenance": []
    }
  },
  "nbformat": 4,
  "nbformat_minor": 0
}