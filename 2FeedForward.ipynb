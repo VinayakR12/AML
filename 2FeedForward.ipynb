{
  "cells": [
    {
      "cell_type": "markdown",
      "metadata": {
        "id": "VgKazXR7V6zI"
      },
      "source": [
        "# **Experiment No : 2. Implement Feed Forward Network**"
      ]
    },
    {
      "cell_type": "code",
      "execution_count": null,
      "metadata": {
        "id": "xrNk5g_2V6zM"
      },
      "outputs": [],
      "source": [
        "import numpy as np"
      ]
    },
    {
      "cell_type": "code",
      "source": [
        "def activation(z):\n",
        "  return 1/(1+np.exp(-z))\n",
        "\n",
        "def loss_function(target,output):\n",
        "  return (1/len(target))*np.square(target-output)"
      ],
      "metadata": {
        "id": "6EdcfFXRfQEQ"
      },
      "execution_count": null,
      "outputs": []
    },
    {
      "cell_type": "code",
      "execution_count": null,
      "metadata": {
        "id": "TF6EWDOnV6zP"
      },
      "outputs": [],
      "source": [
        "def forwardpass(x,w1,w2,b1,b2):\n",
        "  weighted_sum1=np.dot(x,w1)+b1\n",
        "  print(\"Weighted Sum from input layer :\\n\",weighted_sum1)\n",
        "\n",
        "  h_in=activation(weighted_sum1)\n",
        "  weighted_sum2=np.dot(h_in,w2)+b2\n",
        "  print(\"Weighted Sum from hidden layer :\\n\",weighted_sum2)\n",
        "\n",
        "  h_out=activation(weighted_sum2)\n",
        "  return h_out\n"
      ]
    },
    {
      "cell_type": "code",
      "execution_count": null,
      "metadata": {
        "id": "j5mONBqdV6zQ"
      },
      "outputs": [],
      "source": [
        "x=np.array([[0.1, 0.3], [0.7, 0.2], [0.2, 0.4]])\n",
        "\n",
        "targets=np.array([[0], [1], [1]])\n",
        "\n",
        "w1= np.array([[0.8, 0.1], [0.9, 0.2]])\n",
        "b1 = np.array([0.1, 0.2])\n",
        "\n",
        "w2 = np.array([[0.7], [0.3]])\n",
        "b2= np.array([0.1])\n"
      ]
    },
    {
      "cell_type": "code",
      "execution_count": null,
      "metadata": {
        "id": "zZkP_-oQV6zV",
        "outputId": "95cd89c8-b57f-4fc3-d9ac-4c25cc8c572e",
        "colab": {
          "base_uri": "https://localhost:8080/"
        }
      },
      "outputs": [
        {
          "output_type": "stream",
          "name": "stdout",
          "text": [
            "Weighted Sum from input layer :\n",
            " [[0.45 0.27]\n",
            " [0.84 0.31]\n",
            " [0.62 0.3 ]]\n",
            "Weighted Sum from hidden layer :\n",
            " [[0.69757534]\n",
            " [0.76199123]\n",
            " [0.72748574]]\n"
          ]
        }
      ],
      "source": [
        "final_output=forwardpass(x,w1,w2,b1,b2)\n",
        "loss=loss_function(targets,final_output)"
      ]
    },
    {
      "cell_type": "code",
      "source": [
        "print(\"Input Data :\\n\",x)\n",
        "print(\"Output :\\n\",final_output)\n",
        "print(\"Loss :\\n\",loss)"
      ],
      "metadata": {
        "colab": {
          "base_uri": "https://localhost:8080/"
        },
        "id": "8fMGKcWFffnm",
        "outputId": "8df53d87-2578-4893-b3bb-7c2c3aadd728"
      },
      "execution_count": null,
      "outputs": [
        {
          "output_type": "stream",
          "name": "stdout",
          "text": [
            "Input Data :\n",
            " [[0.1 0.3]\n",
            " [0.7 0.2]\n",
            " [0.2 0.4]]\n",
            "Output :\n",
            " [[0.66764997]\n",
            " [0.6817859 ]\n",
            " [0.67425329]]\n",
            "Loss :\n",
            " [[0.1485855 ]\n",
            " [0.03375341]\n",
            " [0.03537031]]\n"
          ]
        }
      ]
    },
    {
      "cell_type": "code",
      "source": [],
      "metadata": {
        "id": "dRymAqqwCWR2"
      },
      "execution_count": null,
      "outputs": []
    }
  ],
  "metadata": {
    "kernelspec": {
      "display_name": "Python 3",
      "language": "python",
      "name": "python3"
    },
    "language_info": {
      "codemirror_mode": {
        "name": "ipython",
        "version": 3
      },
      "file_extension": ".py",
      "mimetype": "text/x-python",
      "name": "python",
      "nbconvert_exporter": "python",
      "pygments_lexer": "ipython3",
      "version": "3.9.9"
    },
    "colab": {
      "provenance": []
    }
  },
  "nbformat": 4,
  "nbformat_minor": 0
}