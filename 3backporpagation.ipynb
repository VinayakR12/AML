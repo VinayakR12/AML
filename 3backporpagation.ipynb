{
  "cells": [
    {
      "cell_type": "markdown",
      "metadata": {
        "id": "6oSfZ5o2XSNm"
      },
      "source": [
        "# **Experiment No : 3. Implement Back Propagation Algorithm**"
      ]
    },
    {
      "cell_type": "code",
      "source": [
        "import numpy as np"
      ],
      "metadata": {
        "id": "MdS3_-nTX4yf"
      },
      "execution_count": null,
      "outputs": []
    },
    {
      "cell_type": "code",
      "source": [
        "def sigmoid(x):\n",
        "    return 1 / (1 + np.exp(-x))\n",
        "\n",
        "def sigmoid_derivative(x):\n",
        "    return x * (1 - x)"
      ],
      "metadata": {
        "id": "pNSQ6qDmX4vR"
      },
      "execution_count": null,
      "outputs": []
    },
    {
      "cell_type": "code",
      "source": [
        "X = np.array([[0, 0],[0, 1],[1, 0],[1, 1]])\n",
        "\n",
        "y_true = np.array([[0],[1],[1],[1]])\n",
        "\n",
        "input_size = 2\n",
        "hidden_size = 4\n",
        "output_size = 1\n",
        "\n",
        "hidden_weights = np.random.uniform(size=(input_size, hidden_size))\n",
        "hidden_bias = np.random.uniform(size=(1, hidden_size))\n",
        "output_weights = np.random.uniform(size=(hidden_size, output_size))\n",
        "output_bias = np.random.uniform(size=(1, output_size))"
      ],
      "metadata": {
        "id": "wHLb02dyYC06"
      },
      "execution_count": null,
      "outputs": []
    },
    {
      "cell_type": "code",
      "execution_count": null,
      "metadata": {
        "colab": {
          "base_uri": "https://localhost:8080/"
        },
        "id": "yJ6m47GIXSN6",
        "outputId": "583ce7e2-0a9c-4ba2-b0aa-d32a7a12620b"
      },
      "outputs": [
        {
          "output_type": "stream",
          "name": "stdout",
          "text": [
            "Initial Prediction\n",
            "[[0.38339933]\n",
            " [0.80450895]\n",
            " [0.79982558]\n",
            " [0.92008165]]\n",
            "Backpropogating...\n",
            "Completed 0 epochs...\n",
            "Completed 100 epochs...\n",
            "Completed 200 epochs...\n",
            "Completed 300 epochs...\n",
            "Completed 400 epochs...\n",
            "Completed 500 epochs...\n",
            "Completed 600 epochs...\n",
            "Completed 700 epochs...\n",
            "Completed 800 epochs...\n",
            "Completed 900 epochs...\n"
          ]
        }
      ],
      "source": [
        "learning_rate = 0.1\n",
        "epochs = 1000\n",
        "\n",
        "for epoch in range(epochs):\n",
        "\n",
        "    hidden_layer_input = np.dot(X, hidden_weights) + hidden_bias\n",
        "    hidden_layer_output = sigmoid(hidden_layer_input)\n",
        "\n",
        "    output_layer_input = np.dot(hidden_layer_output, output_weights) + output_bias\n",
        "    predicted_output = sigmoid(output_layer_input)\n",
        "    if epoch==0:\n",
        "        print(f'Initial Prediction\\n{predicted_output}\\nBackpropogating...')\n",
        "\n",
        "    output_error = y_true - predicted_output\n",
        "    output_delta = output_error * sigmoid_derivative(predicted_output)\n",
        "\n",
        "    hidden_error = output_delta.dot(output_weights.T)\n",
        "    hidden_delta = hidden_error * sigmoid_derivative(hidden_layer_output)\n",
        "\n",
        "    # Updating weights and biases\n",
        "    output_weights += learning_rate * hidden_layer_output.T.dot(output_delta)\n",
        "    output_bias += learning_rate * np.sum(output_delta, axis=0, keepdims=True)\n",
        "    hidden_weights += learning_rate * X.T.dot(hidden_delta)\n",
        "    hidden_bias += learning_rate * np.sum(hidden_delta, axis=0, keepdims=True)\n",
        "    if epoch%100==0:\n",
        "        print(f\"Completed {epoch} epochs...\")\n",
        "\n",
        "\n",
        "hidden_layer = sigmoid(np.dot(X, hidden_weights) + hidden_bias)\n",
        "output_layer = sigmoid(np.dot(hidden_layer, output_weights) + output_bias)\n",
        "rounded_output = np.round(output_layer)\n",
        "rounded_output = (output_layer > 0.5).astype(int)\n"
      ]
    },
    {
      "cell_type": "code",
      "source": [
        "print(\"OR Gate Output:\")\n",
        "print(rounded_output)"
      ],
      "metadata": {
        "colab": {
          "base_uri": "https://localhost:8080/"
        },
        "id": "dQSBgYqTYGuu",
        "outputId": "a95e5d6a-8607-4950-c8aa-4b7940b53b81"
      },
      "execution_count": null,
      "outputs": [
        {
          "output_type": "stream",
          "name": "stdout",
          "text": [
            "OR Gate Output:\n",
            "[[0]\n",
            " [1]\n",
            " [1]\n",
            " [1]]\n"
          ]
        }
      ]
    }
  ],
  "metadata": {
    "kernelspec": {
      "display_name": "Python 3",
      "language": "python",
      "name": "python3"
    },
    "language_info": {
      "codemirror_mode": {
        "name": "ipython",
        "version": 3
      },
      "file_extension": ".py",
      "mimetype": "text/x-python",
      "name": "python",
      "nbconvert_exporter": "python",
      "pygments_lexer": "ipython3",
      "version": "3.9.9"
    },
    "colab": {
      "provenance": []
    }
  },
  "nbformat": 4,
  "nbformat_minor": 0
}